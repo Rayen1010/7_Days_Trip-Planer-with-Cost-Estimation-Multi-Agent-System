{
 "cells": [
  {
   "cell_type": "markdown",
   "metadata": {},
   "source": [
    "Importations\n",
    "------------"
   ]
  },
  {
   "cell_type": "code",
   "execution_count": 18,
   "metadata": {},
   "outputs": [],
   "source": [
    "from textwrap import dedent\n",
    "import requests\n",
    "import json\n",
    "import os\n",
    "import re\n",
    "from typing import TypedDict, Annotated\n",
    "from langchain_ollama import OllamaLLM\n",
    "from langgraph.graph import StateGraph, END\n"
   ]
  },
  {
   "cell_type": "markdown",
   "metadata": {},
   "source": [
    "Initialize Llama3.2 model\n",
    "------------------"
   ]
  },
  {
   "cell_type": "code",
   "execution_count": 19,
   "metadata": {},
   "outputs": [],
   "source": [
    "model = OllamaLLM(model=\"llama3.2\")"
   ]
  },
  {
   "cell_type": "markdown",
   "metadata": {},
   "source": [
    "Common Tools for All Nodes\n",
    "------------------"
   ]
  },
  {
   "cell_type": "code",
   "execution_count": null,
   "metadata": {},
   "outputs": [],
   "source": [
    "class Tools:\n",
    "    @staticmethod\n",
    "    def search_internet(query, num_results=3):\n",
    "        \"\"\"Enhanced search with cost data extraction\"\"\"\n",
    "        url = \"https://google.serper.dev/search\"\n",
    "        headers = {\n",
    "            'X-API-KEY': os.environ['SERPER_API_KEY'],\n",
    "            'Content-Type': 'application/json'\n",
    "        }\n",
    "        response = requests.post(url, headers=headers, data=json.dumps({'q': query}))\n",
    "        results = response.json().get('organic', [])\n",
    "        \n",
    "        if \"cost\" in query.lower() or \"price\" in query.lower():\n",
    "            cost_data = []\n",
    "            for r in results[:num_results]:\n",
    "                snippet = r.get('snippet', '')\n",
    "                prices = re.findall(r'(?:USD|€|£|¥|₹|₩|₽|฿|₴|₫|₪|元|CAD|AUD)\\s*[\\d,]+\\.?\\d*', snippet)\n",
    "                if prices:\n",
    "                    cost_data.append(f\"From {r['title']} ({r['link']}): {', '.join(prices)}\")\n",
    "            return \"\\n\".join(cost_data) if cost_data else \"No explicit cost data found\"\n",
    "        \n",
    "        return \"\\n\".join(\n",
    "            f\"Title: {r['title']}\\nLink: {r['link']}\\nSnippet: {r.get('snippet', '')}\\n\"\n",
    "            for r in results[:num_results]\n",
    "        )\n",
    "\n",
    "    @staticmethod\n",
    "    def generate_with_llama(prompt):\n",
    "        \"\"\"Generate text using LLM with error handling\"\"\"\n",
    "        try:\n",
    "            response = model.generate([prompt])\n",
    "            return response.generations[0][0].text\n",
    "        except Exception as e:\n",
    "            return f\"LLM Error: {str(e)}\""
   ]
  },
  {
   "cell_type": "markdown",
   "metadata": {},
   "source": [
    "Define State for Memory and Context (common for each Node)\n",
    "----------------------"
   ]
  },
  {
   "cell_type": "code",
   "execution_count": 21,
   "metadata": {},
   "outputs": [],
   "source": [
    "class TripPlanningState(TypedDict):\n",
    "    Country_Destination: str\n",
    "    cities: list[str]\n",
    "    date_range: str\n",
    "    interests: str\n",
    "    best_city: Annotated[str, \"Selected destination\"]\n",
    "    city_info: Annotated[str, \"Researched city details\"]\n",
    "    itinerary: Annotated[str, \"Daily schedule\"]\n",
    "    cost_estimation: Annotated[str, \"Detailed cost analysis\"]\n",
    "    report: Annotated[str, \"Final compiled report\"]"
   ]
  },
  {
   "cell_type": "markdown",
   "metadata": {},
   "source": [
    "Define the Nodes\n",
    "--------------"
   ]
  },
  {
   "cell_type": "code",
   "execution_count": 22,
   "metadata": {},
   "outputs": [],
   "source": [
    "def select_best_city(state: TripPlanningState):\n",
    "    \"\"\"Research and select optimal destination\"\"\"\n",
    "    research = \"\\n\".join(\n",
    "        f\"Research for {city}:\\n{Tools.search_internet(f'{city} {state[\"Country_Destination\"]} tourism {state[\"interests\"]}')}\"\n",
    "        for city in state['cities']\n",
    "    )\n",
    "    \n",
    "    prompt = f\"\"\"\n",
    "    Analyze these destinations in {state['Country_Destination']}:\n",
    "    {research}\n",
    "    \n",
    "    Select best option for {state['interests']} considering:\n",
    "    - Cultural relevance\n",
    "    - Seasonal suitability\n",
    "    - Accessibility\n",
    "    \"\"\"\n",
    "    return {\"best_city\": Tools.generate_with_llama(prompt)}\n",
    "\n",
    "def gather_city_info(state: TripPlanningState):\n",
    "    \"\"\"Compile comprehensive city guide\"\"\"\n",
    "    search_data = Tools.search_internet(\n",
    "        f\"{state['best_city']} {state['Country_Destination']} {state['date_range']} {state['interests']} guide\"\n",
    "    )\n",
    "    \n",
    "    prompt = f\"\"\"\n",
    "    Create travel guide for {state['best_city']}, {state['Country_Destination']} using:\n",
    "    {search_data}\n",
    "    \n",
    "    Include:\n",
    "    - Top attractions\n",
    "    - {state['interests']}-specific activities \n",
    "    - Local customs\n",
    "    - {state['date_range']} events\n",
    "    \"\"\"\n",
    "    return {\"city_info\": Tools.generate_with_llama(prompt)}\n",
    "\n",
    "def estimate_trip_costs(state: TripPlanningState):\n",
    "    \"\"\"Dedicated cost estimation node with prompt\"\"\"\n",
    "    # Get raw price data\n",
    "    hotel_data = Tools.search_internet(\n",
    "        f\"average hotel price in {state['best_city']} {state['Country_Destination']} {state['date_range']}\"\n",
    "    )\n",
    "    food_data = Tools.search_internet(\n",
    "        f\"meal costs in {state['best_city']} for {state['interests']} travelers\"\n",
    "    )\n",
    "    activity_data = Tools.search_internet(\n",
    "        f\"activity prices in {state['best_city']} for {state['interests']}\"\n",
    "    )\n",
    "    \n",
    "    prompt = f\"\"\"\n",
    "    Analyze these cost data points for {state['best_city']}, {state['Country_Destination']}:\n",
    "    \n",
    "    ACCOMMODATION:\n",
    "    {hotel_data}\n",
    "    \n",
    "    FOOD:\n",
    "    {food_data}\n",
    "    \n",
    "    ACTIVITIES:\n",
    "    {activity_data}\n",
    "    \n",
    "    Generate detailed cost estimation for {state['date_range']} including:\n",
    "    1. Three budget tiers (budget/mid-range/luxury)\n",
    "    2. Daily cost breakdown\n",
    "    3. Potential unexpected expenses\n",
    "    4. Best value recommendations\n",
    "    5. Currency exchange advice if applicable\n",
    "    \"\"\"\n",
    "    return {\"cost_estimation\": Tools.generate_with_llama(prompt)}\n",
    "\n",
    "def create_itinerary(state: TripPlanningState):\n",
    "    \"\"\"Generate budget-aware itinerary\"\"\"\n",
    "    prompt = f\"\"\"\n",
    "    Create 7-day itinerary for {state['best_city']}, {state['Country_Destination']}:\n",
    "    \n",
    "    BUDGET CONTEXT:\n",
    "    {state.get('cost_estimation', 'No specific budget constraints')}\n",
    "    \n",
    "    INTERESTS:\n",
    "    {state['interests']}\n",
    "    \n",
    "    DATES:\n",
    "    {state['date_range']}\n",
    "    \n",
    "    Include for each day:\n",
    "    - Budget-friendly alternatives\n",
    "    - Estimated activity costs\n",
    "    - Free time suggestions\n",
    "    \"\"\"\n",
    "    itinerary = Tools.generate_with_llama(prompt)\n",
    "    return {\"itinerary\": itinerary}\n",
    "\n",
    "def final_report(state: TripPlanningState):\n",
    "    \"\"\"Final report with integrated cost analysis\"\"\"\n",
    "    report = f\"\"\"\n",
    "    # COMPREHENSIVE TRAVEL PLAN\n",
    "    ## Destination: {state['best_city']}, {state['Country_Destination']}\n",
    "    ## Travel Period: {state['date_range']}\n",
    "    \n",
    "    ## Cost Estimation\n",
    "    {state.get('cost_estimation', 'Cost analysis not available')}\n",
    "    \n",
    "    ## Destination Guide\n",
    "    {state['city_info']}\n",
    "    \n",
    "    ## Daily Itinerary\n",
    "    {state['itinerary']}\n",
    "    \n",
    "    ## Financial Tips\n",
    "    {Tools.generate_with_llama(f\"5 expert money management tips for traveling in {state['Country_Destination']}\")}\n",
    "    \"\"\"\n",
    "    return {\"report\": dedent(report)}"
   ]
  },
  {
   "cell_type": "markdown",
   "metadata": {},
   "source": [
    "LangGraph Workflow \n",
    "--------------------"
   ]
  },
  {
   "cell_type": "code",
   "execution_count": 23,
   "metadata": {},
   "outputs": [],
   "source": [
    "def create_workflow():\n",
    "    \"\"\"Build workflow with cost estimation node\"\"\"\n",
    "    workflow = StateGraph(TripPlanningState)\n",
    "    \n",
    "    workflow.add_node(\"select_city\", select_best_city)\n",
    "    workflow.add_node(\"gather_info\", gather_city_info)\n",
    "    workflow.add_node(\"estimate_costs\", estimate_trip_costs)\n",
    "    workflow.add_node(\"plan_itinerary\", create_itinerary)\n",
    "    workflow.add_node(\"generate_report\", final_report)\n",
    "    \n",
    "    workflow.add_edge(\"select_city\", \"gather_info\")\n",
    "    workflow.add_edge(\"gather_info\", \"estimate_costs\")\n",
    "    workflow.add_edge(\"estimate_costs\", \"plan_itinerary\")\n",
    "    workflow.add_edge(\"plan_itinerary\", \"generate_report\")\n",
    "    workflow.add_edge(\"generate_report\", END)\n",
    "    \n",
    "    workflow.set_entry_point(\"select_city\")\n",
    "    return workflow.compile()"
   ]
  },
  {
   "cell_type": "markdown",
   "metadata": {},
   "source": [
    "Main Function\n",
    "-----------"
   ]
  },
  {
   "cell_type": "code",
   "execution_count": null,
   "metadata": {},
   "outputs": [],
   "source": [
    "def main():\n",
    "    print(\"🌍 Trip Planner with Cost Estimation\")\n",
    "    print(\"-----------------------------------\")\n",
    "    \n",
    "    initial_state = {\n",
    "        \"Country_Destination\": input(\"Which country are you visiting? \").strip(),\n",
    "        \"cities\": [c.strip() for c in input(\"Cities to consider (comma-separated): \").split(\",\")],\n",
    "        \"date_range\": input(\"Travel dates (e.g., 'July 15-22, 2025'): \").strip(),\n",
    "        \"interests\": input(\"Your travel interests: \").strip(),\n",
    "        \"best_city\": \"\",\n",
    "        \"city_info\": \"\",\n",
    "        \"itinerary\": \"\",\n",
    "        \"cost_estimation\": \"\",\n",
    "        \"report\": \"\"\n",
    "    }\n",
    "    \n",
    "    app = create_workflow()\n",
    "    result = app.invoke(initial_state)\n",
    "    \n",
    "    print(\"\\n✈️ FINAL TRAVEL PLAN ✈️\")\n",
    "    print(result['report'])\n",
    "    \n",
    "    with open(f\"{initial_state['Country_Destination']}_trip_plan2.txt\", \"w\") as f:\n",
    "        f.write(result['report'])\n",
    "\n",
    "if __name__ == \"__main__\":\n",
    "    main()"
   ]
  }
 ],
 "metadata": {
  "kernelspec": {
   "display_name": "ollama_based",
   "language": "python",
   "name": "ollama_based"
  },
  "language_info": {
   "codemirror_mode": {
    "name": "ipython",
    "version": 3
   },
   "file_extension": ".py",
   "mimetype": "text/x-python",
   "name": "python",
   "nbconvert_exporter": "python",
   "pygments_lexer": "ipython3",
   "version": "3.12.7"
  }
 },
 "nbformat": 4,
 "nbformat_minor": 2
}
